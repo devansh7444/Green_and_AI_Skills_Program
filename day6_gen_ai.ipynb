{
 "cells": [
  {
   "cell_type": "markdown",
   "metadata": {},
   "source": [
    "# Generating an Animation of an Elastic Ball Using Pygame with ChatGPT "
   ]
  },
  {
   "cell_type": "markdown",
   "metadata": {},
   "source": [
    "Prompt: I want to create a Python program that generates an animation of an elastic ball dropping from a height and bouncing when it touches the ground using the Pygame library. Can you help me with the code?"
   ]
  },
  {
   "cell_type": "code",
   "execution_count": 2,
   "metadata": {},
   "outputs": [
    {
     "ename": "SystemExit",
     "evalue": "",
     "output_type": "error",
     "traceback": [
      "An exception has occurred, use %tb to see the full traceback.\n",
      "\u001b[1;31mSystemExit\u001b[0m\n"
     ]
    }
   ],
   "source": [
    "import pygame\n",
    "import sys\n",
    "\n",
    "# Initialize Pygame\n",
    "pygame.init()\n",
    "\n",
    "# Screen dimensions and setup\n",
    "WIDTH, HEIGHT = 600, 400\n",
    "screen = pygame.display.set_mode((WIDTH, HEIGHT))\n",
    "pygame.display.set_caption(\"Elastic Ball Animation\")\n",
    "\n",
    "# Colors\n",
    "WHITE = (255, 255, 255)\n",
    "RED = (255, 0, 0)\n",
    "\n",
    "# Ball properties\n",
    "ball_radius = 20\n",
    "ball_x = WIDTH // 2\n",
    "ball_y = ball_radius\n",
    "ball_y_velocity = 0\n",
    "\n",
    "# Physics properties\n",
    "gravity = 0.5\n",
    "elasticity = 0.8\n",
    "\n",
    "# Clock for controlling frame rate\n",
    "clock = pygame.time.Clock()\n",
    "\n",
    "# Main loop\n",
    "running = True\n",
    "while running:\n",
    "    for event in pygame.event.get():\n",
    "        if event.type == pygame.QUIT:\n",
    "            running = False\n",
    "\n",
    "    # Update ball position\n",
    "    ball_y_velocity += gravity\n",
    "    ball_y += ball_y_velocity\n",
    "\n",
    "    # Check for collision with the ground\n",
    "    if ball_y + ball_radius >= HEIGHT:\n",
    "        ball_y = HEIGHT - ball_radius\n",
    "        ball_y_velocity = -ball_y_velocity * elasticity\n",
    "\n",
    "    # Clear the screen\n",
    "    screen.fill(WHITE)\n",
    "\n",
    "    # Draw the ball\n",
    "    pygame.draw.circle(screen, RED, (ball_x, int(ball_y)), ball_radius)\n",
    "\n",
    "    # Update the display\n",
    "    pygame.display.flip()\n",
    "\n",
    "    # Cap the frame rate\n",
    "    clock.tick(60)\n",
    "\n",
    "# Quit Pygame\n",
    "pygame.quit()\n",
    "sys.exit()"
   ]
  },
  {
   "cell_type": "markdown",
   "metadata": {},
   "source": [
    "# Image Generation Using Adobe Express Text to Image Tool"
   ]
  },
  {
   "cell_type": "markdown",
   "metadata": {},
   "source": [
    "Lnik: https://helpx.adobe.com/in/express/create-and-edit-images/create-and-modify-with-generative-ai/text-to-image.html"
   ]
  },
  {
   "cell_type": "markdown",
   "metadata": {},
   "source": [
    "Prompt: Generate an image of a girl talking to an advanced robot in a forest during sunset"
   ]
  },
  {
   "cell_type": "markdown",
   "metadata": {},
   "source": [
    "# HTML/CSS Code Generation Using Black Box AI"
   ]
  },
  {
   "cell_type": "markdown",
   "metadata": {},
   "source": [
    "Prompt: Generate HTML and CSS code for a basic webpage with a header, navigation menu, content section, and footer."
   ]
  },
  {
   "cell_type": "markdown",
   "metadata": {},
   "source": [
    "HTML:\n",
    "```\n",
    "<!DOCTYPE html>\n",
    "<html lang=\"en\">\n",
    "<head>\n",
    "    <meta charset=\"UTF-8\">\n",
    "    <meta name=\"viewport\" content=\"width=device-width, initial-scale=1.0\">\n",
    "    <title>Basic Webpage</title>\n",
    "    <link rel=\"stylesheet\" href=\"styles.css\">\n",
    "</head>\n",
    "<body>\n",
    "    <header>\n",
    "        <h1>Welcome to My Website</h1>\n",
    "    </header>\n",
    "\n",
    "    <nav>\n",
    "        <ul>\n",
    "            <li><a href=\"#\">Home</a></li>\n",
    "            <li><a href=\"#\">About</a></li>\n",
    "            <li><a href=\"#\">Services</a></li>\n",
    "            <li><a href=\"#\">Contact</a></li>\n",
    "        </ul>\n",
    "    </nav>\n",
    "\n",
    "    <main>\n",
    "        <section>\n",
    "            <h2>About Us</h2>\n",
    "            <p>This is a simple webpage layout with a header, navigation menu, content section, and footer.</p>\n",
    "        </section>\n",
    "    </main>\n",
    "\n",
    "    <footer>\n",
    "        <p>&copy; 2023 My Website. All rights reserved.</p>\n",
    "    </footer>\n",
    "</body>\n",
    "</html>\n",
    "```"
   ]
  },
  {
   "cell_type": "markdown",
   "metadata": {},
   "source": [
    "CSS:\n",
    "```\n",
    "/* General Styles */\n",
    "body {\n",
    "    font-family: Arial, sans-serif;\n",
    "    margin: 0;\n",
    "    padding: 0;\n",
    "    line-height: 1.6;\n",
    "}\n",
    "\n",
    "/* Header Styles */\n",
    "header {\n",
    "    background-color: #333;\n",
    "    color: #fff;\n",
    "    padding: 20px 0;\n",
    "    text-align: center;\n",
    "}\n",
    "\n",
    "header h1 {\n",
    "    margin: 0;\n",
    "}\n",
    "\n",
    "/* Navigation Styles */\n",
    "nav {\n",
    "    background-color: #444;\n",
    "    padding: 10px 0;\n",
    "}\n",
    "\n",
    "nav ul {\n",
    "    list-style: none;\n",
    "    padding: 0;\n",
    "    margin: 0;\n",
    "    text-align: center;\n",
    "}\n",
    "\n",
    "nav ul li {\n",
    "    display: inline;\n",
    "    margin: 0 15px;\n",
    "}\n",
    "\n",
    "nav ul li a {\n",
    "    color: #fff;\n",
    "    text-decoration: none;\n",
    "    font-weight: bold;\n",
    "}\n",
    "\n",
    "nav ul li a:hover {\n",
    "    color: #f4c613;\n",
    "}\n",
    "\n",
    "/* Main Content Styles */\n",
    "main {\n",
    "    padding: 20px;\n",
    "}\n",
    "\n",
    "section {\n",
    "    margin-bottom: 20px;\n",
    "}\n",
    "\n",
    "section h2 {\n",
    "    color: #333;\n",
    "}\n",
    "\n",
    "section p {\n",
    "    color: #666;\n",
    "}\n",
    "\n",
    "/* Footer Styles */\n",
    "footer {\n",
    "    background-color: #333;\n",
    "    color: #fff;\n",
    "    text-align: center;\n",
    "    padding: 10px 0;\n",
    "    position: fixed;\n",
    "    width: 100%;\n",
    "    bottom: 0;\n",
    "}\n",
    "```"
   ]
  },
  {
   "cell_type": "markdown",
   "metadata": {},
   "source": [
    "# D-ID Creative Reality Studio"
   ]
  },
  {
   "cell_type": "markdown",
   "metadata": {},
   "source": [
    "Link: https://www.d-id.com/"
   ]
  },
  {
   "cell_type": "markdown",
   "metadata": {},
   "source": [
    "Click on “Create a video” "
   ]
  },
  {
   "cell_type": "markdown",
   "metadata": {},
   "source": [
    "# Getting Started with Runway ML"
   ]
  },
  {
   "cell_type": "markdown",
   "metadata": {},
   "source": [
    "Link: https://runwayml.com/"
   ]
  },
  {
   "cell_type": "code",
   "execution_count": null,
   "metadata": {},
   "outputs": [],
   "source": []
  }
 ],
 "metadata": {
  "kernelspec": {
   "display_name": "venv",
   "language": "python",
   "name": "python3"
  },
  "language_info": {
   "codemirror_mode": {
    "name": "ipython",
    "version": 3
   },
   "file_extension": ".py",
   "mimetype": "text/x-python",
   "name": "python",
   "nbconvert_exporter": "python",
   "pygments_lexer": "ipython3",
   "version": "3.10.7"
  }
 },
 "nbformat": 4,
 "nbformat_minor": 2
}
